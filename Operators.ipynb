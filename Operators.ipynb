{
 "cells": [
  {
   "cell_type": "markdown",
   "id": "ad0f19b8-e0b5-44ec-aa49-60cd39717e6e",
   "metadata": {},
   "source": [
    "#data types revision\n",
    "1.numeric---Int,float,complex\n",
    "2.string-str\n",
    "3.list\n",
    "4.tuple\n",
    "5.set\n",
    "6.dictionary\n"
   ]
  },
  {
   "cell_type": "code",
   "execution_count": 1,
   "id": "1be832cc-81fb-483c-b36c-19e3d118e615",
   "metadata": {},
   "outputs": [],
   "source": [
    "x=10"
   ]
  },
  {
   "cell_type": "code",
   "execution_count": 2,
   "id": "db8d2489-560a-4dac-b853-66b4161e1989",
   "metadata": {},
   "outputs": [],
   "source": [
    "x=1.34"
   ]
  },
  {
   "cell_type": "code",
   "execution_count": 3,
   "id": "b72d1d8e-2af1-4a32-88c2-a63a61561faa",
   "metadata": {},
   "outputs": [],
   "source": [
    "x=\"vamshi\""
   ]
  },
  {
   "cell_type": "code",
   "execution_count": 4,
   "id": "ff39b21b-1b31-4ff2-b6af-9fc5c3f8f439",
   "metadata": {},
   "outputs": [],
   "source": [
    "x=[\"vamshi\",2,2.3]"
   ]
  },
  {
   "cell_type": "code",
   "execution_count": 5,
   "id": "966d3fbb-0981-4af6-8c97-3d4865486280",
   "metadata": {},
   "outputs": [],
   "source": [
    "dict={\"name\":\"vamshi\"}"
   ]
  },
  {
   "cell_type": "code",
   "execution_count": 6,
   "id": "39227691-38a7-4279-8f30-795ddf5dc05a",
   "metadata": {},
   "outputs": [],
   "source": [
    "set=(1,2,3,4)"
   ]
  },
  {
   "cell_type": "code",
   "execution_count": 7,
   "id": "27476aae-553e-41bf-bc39-a68af53601de",
   "metadata": {},
   "outputs": [
    {
     "data": {
      "text/plain": [
       "dict"
      ]
     },
     "execution_count": 7,
     "metadata": {},
     "output_type": "execute_result"
    }
   ],
   "source": [
    "type(dict)\n"
   ]
  },
  {
   "cell_type": "code",
   "execution_count": 8,
   "id": "3dd71f2c-e07c-47ae-a196-ed3846c3cb8f",
   "metadata": {},
   "outputs": [],
   "source": [
    "t={1,2,3}"
   ]
  },
  {
   "cell_type": "code",
   "execution_count": 9,
   "id": "133eb05e-0e5a-4a8a-a947-148e622a04f0",
   "metadata": {},
   "outputs": [
    {
     "name": "stdin",
     "output_type": "stream",
     "text": [
      " 1\n"
     ]
    }
   ],
   "source": [
    "#input output function\n",
    "x=input()"
   ]
  },
  {
   "cell_type": "code",
   "execution_count": 10,
   "id": "47c65793-705c-4cec-8878-e025412f176c",
   "metadata": {},
   "outputs": [
    {
     "data": {
      "text/plain": [
       "'1'"
      ]
     },
     "execution_count": 10,
     "metadata": {},
     "output_type": "execute_result"
    }
   ],
   "source": [
    "x"
   ]
  },
  {
   "cell_type": "code",
   "execution_count": 11,
   "id": "2cf86dc7-c800-48cf-9d78-392c1cde9736",
   "metadata": {},
   "outputs": [
    {
     "name": "stdin",
     "output_type": "stream",
     "text": [
      " 2\n"
     ]
    }
   ],
   "source": [
    "y=input() #whenever using input try to enter input,kernel run continously ,so next cell not run"
   ]
  },
  {
   "cell_type": "code",
   "execution_count": 12,
   "id": "1a78e885-ec80-4cdd-8242-2c395fd6a895",
   "metadata": {},
   "outputs": [
    {
     "name": "stdin",
     "output_type": "stream",
     "text": [
      "enter your name vamshi\n"
     ]
    }
   ],
   "source": [
    "w=input(\"enter your name\")    #standard input\n"
   ]
  },
  {
   "cell_type": "code",
   "execution_count": 13,
   "id": "ed3a0c0b-15c7-48c3-9e3b-cb3faf1b096b",
   "metadata": {},
   "outputs": [
    {
     "data": {
      "text/plain": [
       "'vamshi'"
      ]
     },
     "execution_count": 13,
     "metadata": {},
     "output_type": "execute_result"
    }
   ],
   "source": [
    "w"
   ]
  },
  {
   "cell_type": "code",
   "execution_count": 14,
   "id": "7d95ad1e-9d9a-4760-a4a9-d4ba962d3e8a",
   "metadata": {},
   "outputs": [
    {
     "name": "stdout",
     "output_type": "stream",
     "text": [
      "hi\n"
     ]
    }
   ],
   "source": [
    "print(\"hi\") #output function"
   ]
  },
  {
   "cell_type": "code",
   "execution_count": 15,
   "id": "d6b9ff7c-17f5-43cd-aa7f-703083c87082",
   "metadata": {},
   "outputs": [
    {
     "name": "stdin",
     "output_type": "stream",
     "text": [
      "enter your name vamshi\n"
     ]
    },
    {
     "name": "stdout",
     "output_type": "stream",
     "text": [
      "vamshi\n"
     ]
    }
   ],
   "source": [
    "x=input(\"enter your name\")\n",
    "print(x)"
   ]
  },
  {
   "cell_type": "code",
   "execution_count": 16,
   "id": "65935e6d-0202-4262-bbaf-e95427cfec19",
   "metadata": {},
   "outputs": [
    {
     "name": "stdin",
     "output_type": "stream",
     "text": [
      "enter your age 25\n"
     ]
    },
    {
     "name": "stdout",
     "output_type": "stream",
     "text": [
      "my age is25\n"
     ]
    }
   ],
   "source": [
    "y=input(\"enter your age\")\n",
    "print(\"my age is\" +y)      #concatinate in print"
   ]
  },
  {
   "cell_type": "code",
   "execution_count": 17,
   "id": "8e2996b6-c29b-48c7-8f91-f9dbe9cc21b1",
   "metadata": {},
   "outputs": [
    {
     "name": "stdout",
     "output_type": "stream",
     "text": [
      "40\n"
     ]
    }
   ],
   "source": [
    "x=10\n",
    "y=30\n",
    "print(x+y)"
   ]
  },
  {
   "cell_type": "code",
   "execution_count": 18,
   "id": "2cd78476-8749-4080-a7c2-1033cb690ddc",
   "metadata": {},
   "outputs": [
    {
     "name": "stdin",
     "output_type": "stream",
     "text": [
      "enter first number 10\n",
      "enter second number 30\n"
     ]
    },
    {
     "name": "stdout",
     "output_type": "stream",
     "text": [
      "1030\n"
     ]
    }
   ],
   "source": [
    "x=(input(\"enter first number\"))    #specifically telling input to ent integer value only\n",
    "y=(input(\"enter second number\"))\n",
    "print(x+y)"
   ]
  },
  {
   "cell_type": "code",
   "execution_count": 19,
   "id": "322eda55-7b1c-4309-8bc8-d000ce48242e",
   "metadata": {},
   "outputs": [
    {
     "name": "stdin",
     "output_type": "stream",
     "text": [
      "enter first number 10\n",
      "enter second number 30\n"
     ]
    },
    {
     "name": "stdout",
     "output_type": "stream",
     "text": [
      "40\n"
     ]
    }
   ],
   "source": [
    "x=int(input(\"enter first number\"))    #specifically telling input to ent integer value only\n",
    "y=int(input(\"enter second number\"))\n",
    "print(x+y)"
   ]
  },
  {
   "cell_type": "code",
   "execution_count": 20,
   "id": "4901fd7b-cc7a-455a-8cc1-271e208bc78f",
   "metadata": {},
   "outputs": [
    {
     "name": "stdin",
     "output_type": "stream",
     "text": [
      "enter first number 2\n",
      "enter second number 3\n"
     ]
    },
    {
     "name": "stdout",
     "output_type": "stream",
     "text": [
      "5\n"
     ]
    }
   ],
   "source": [
    "x=int(input(\"enter first number\"))    #specifically telling input to ent integer value only restricting other\n",
    "y=int(input(\"enter second number\"))    #user restricting other data types\n",
    "print(x+y)"
   ]
  },
  {
   "cell_type": "code",
   "execution_count": 21,
   "id": "7afe588f-9f61-41ca-8dbc-99b9e8f69e5d",
   "metadata": {},
   "outputs": [
    {
     "name": "stdout",
     "output_type": "stream",
     "text": [
      "vamshi\n"
     ]
    }
   ],
   "source": [
    "#3 kinds of print statements\n",
    "print(\"vamshi\") #what ever mention it will print and do operartions inside\n",
    "      "
   ]
  },
  {
   "cell_type": "code",
   "execution_count": 22,
   "id": "54aa7882-5893-4194-b6c7-713a0d9f6e15",
   "metadata": {},
   "outputs": [
    {
     "name": "stdout",
     "output_type": "stream",
     "text": [
      "hi vamshi\n",
      "hi ok vamshi\n"
     ]
    }
   ],
   "source": [
    "# 2.f string format print statement -create place holders\n",
    "x=\"hi\"\n",
    "y=\"vamshi\" \n",
    "print(f\"{x} {y}\") #place f in beginning/before double codes and giving place holders-variable creating after excuting certain statement and sgtoring that in some variable and accessing that\n",
    "print(f\"{x} ok {y}\") #in between whatever you enter it will print"
   ]
  },
  {
   "cell_type": "code",
   "execution_count": 23,
   "id": "2015612f-62f8-4b76-8cfd-72f85a3dbf78",
   "metadata": {},
   "outputs": [
    {
     "name": "stdout",
     "output_type": "stream",
     "text": [
      "pw\n"
     ]
    }
   ],
   "source": [
    "print(\"pw\")"
   ]
  },
  {
   "cell_type": "code",
   "execution_count": 24,
   "id": "e8f8c492-5943-49b4-b3fc-a02b3147565f",
   "metadata": {},
   "outputs": [
    {
     "name": "stdout",
     "output_type": "stream",
     "text": [
      "5\n"
     ]
    }
   ],
   "source": [
    "print(\"5\")"
   ]
  },
  {
   "cell_type": "code",
   "execution_count": 25,
   "id": "5127f07f-5c0f-410e-952a-efdcb81260cd",
   "metadata": {},
   "outputs": [
    {
     "name": "stdout",
     "output_type": "stream",
     "text": [
      "pw and skills \n"
     ]
    }
   ],
   "source": [
    "print(\"{0} and {1} \".format(\"pw\",\"skills\")) #.format print statement {}-place holders/index positions"
   ]
  },
  {
   "cell_type": "code",
   "execution_count": 26,
   "id": "fcfa8d13-5fbf-4829-92f3-ee444741d2dc",
   "metadata": {},
   "outputs": [
    {
     "name": "stdout",
     "output_type": "stream",
     "text": [
      "ineuron and skills and pw and ineuron \n"
     ]
    }
   ],
   "source": [
    "print(\"{2} and {1} and {0} and {2} \".format(\"pw\",\"skills\",\"ineuron\")) #.format print statement {}-place holders/index positions"
   ]
  },
  {
   "cell_type": "code",
   "execution_count": 27,
   "id": "3f4ccfcd-933a-4e16-856c-d6f359e58efe",
   "metadata": {},
   "outputs": [
    {
     "name": "stdout",
     "output_type": "stream",
     "text": [
      "89074562\n",
      "hi!!\n",
      "$$Howareyou??\n",
      "100\n",
      "True\n",
      "iam here to learn\n"
     ]
    }
   ],
   "source": [
    "print(\"89074562\")         #iit madras python tasks\n",
    "print(\"hi!!\")\n",
    "x=\"$$\"\n",
    "y=\"Howareyou\"\n",
    "z=\"??\"\n",
    "print(f\"{x}{y}{z}\")\n",
    "x=10\n",
    "y=10\n",
    "print(x*y)\n",
    "x=12\n",
    "y=10\n",
    "print(x>y)\n",
    "print(\"{0} {1} {2}\".format(\"iam\",\"here\",\"to learn\"))"
   ]
  },
  {
   "cell_type": "code",
   "execution_count": 28,
   "id": "df96dfa0-077b-435b-b146-6c9c1416b0a6",
   "metadata": {},
   "outputs": [
    {
     "name": "stdout",
     "output_type": "stream",
     "text": [
      "89074562\n",
      "hii!!\n",
      "$$Howareyou??\n",
      "10*10=100\n",
      "x>y\n",
      "iam here to learn\n"
     ]
    }
   ],
   "source": [
    "#multi line string tasks\n",
    "print(\"\"\"89074562\n",
    "hii!!\n",
    "$$Howareyou??\n",
    "10*10=100\n",
    "x>y\n",
    "iam here to learn\"\"\")\n"
   ]
  },
  {
   "cell_type": "code",
   "execution_count": 29,
   "id": "af8d8ac0-c26e-477e-baf5-df0c1474aa75",
   "metadata": {},
   "outputs": [
    {
     "name": "stdout",
     "output_type": "stream",
     "text": [
      "$\n",
      "$$\n",
      "$$$\n",
      "$$$$\n",
      "$$$$$\n",
      "\n"
     ]
    }
   ],
   "source": [
    "print(\"\"\"$\n",
    "$$\n",
    "$$$\n",
    "$$$$\n",
    "$$$$$\n",
    "\"\"\")"
   ]
  },
  {
   "cell_type": "code",
   "execution_count": 30,
   "id": "094e9f97-e934-4a52-8550-c00f5dec7bbd",
   "metadata": {},
   "outputs": [
    {
     "name": "stdin",
     "output_type": "stream",
     "text": [
      " vamhi\n"
     ]
    },
    {
     "name": "stdout",
     "output_type": "stream",
     "text": [
      "! vamhi !\n",
      "!cool!\n"
     ]
    }
   ],
   "source": [
    "x=str(input())\n",
    "y=x\n",
    "print(\"!\",y,\"!\")\n",
    "print(\"{0}{1}{2}\".format(\"!\",\"cool\",\"!\"))\n"
   ]
  },
  {
   "cell_type": "code",
   "execution_count": 31,
   "id": "fba56224-7260-4d20-929f-3e492f24fa4b",
   "metadata": {},
   "outputs": [
    {
     "name": "stdin",
     "output_type": "stream",
     "text": [
      "enter a string cool\n"
     ]
    },
    {
     "name": "stdout",
     "output_type": "stream",
     "text": [
      "!cool!\n"
     ]
    }
   ],
   "source": [
    "x=input(\"enter a string\")\n",
    "y=x #copy the stringmm                   different ways to do\n",
    "z=\"!\"+x+\"!\"\n",
    "print(z)"
   ]
  },
  {
   "cell_type": "markdown",
   "id": "11296345-2459-4a83-85a0-c60bf0926245",
   "metadata": {},
   "source": [
    "#opertors"
   ]
  },
  {
   "cell_type": "code",
   "execution_count": 32,
   "id": "4170dfdd-8743-4dbe-97df-36331feead5d",
   "metadata": {},
   "outputs": [],
   "source": [
    "a=10\n",
    "b=20"
   ]
  },
  {
   "cell_type": "code",
   "execution_count": 33,
   "id": "76b9520e-d49c-49f7-90c6-15594e626a7f",
   "metadata": {},
   "outputs": [
    {
     "data": {
      "text/plain": [
       "30"
      ]
     },
     "execution_count": 33,
     "metadata": {},
     "output_type": "execute_result"
    }
   ],
   "source": [
    "a+b"
   ]
  },
  {
   "cell_type": "code",
   "execution_count": 34,
   "id": "191d20b1-62cb-4f2f-a949-c989499c6022",
   "metadata": {},
   "outputs": [
    {
     "data": {
      "text/plain": [
       "-10"
      ]
     },
     "execution_count": 34,
     "metadata": {},
     "output_type": "execute_result"
    }
   ],
   "source": [
    "a-b"
   ]
  },
  {
   "cell_type": "code",
   "execution_count": 35,
   "id": "121bf69f-e6bb-4c57-ac89-1ff37a3524ca",
   "metadata": {},
   "outputs": [
    {
     "data": {
      "text/plain": [
       "200"
      ]
     },
     "execution_count": 35,
     "metadata": {},
     "output_type": "execute_result"
    }
   ],
   "source": [
    "a*b"
   ]
  },
  {
   "cell_type": "code",
   "execution_count": 36,
   "id": "bb5ef4b9-0f07-43ce-8ffd-5d6499ca5386",
   "metadata": {},
   "outputs": [
    {
     "data": {
      "text/plain": [
       "2.0"
      ]
     },
     "execution_count": 36,
     "metadata": {},
     "output_type": "execute_result"
    }
   ],
   "source": [
    "b/a #division-result-quotient"
   ]
  },
  {
   "cell_type": "code",
   "execution_count": 37,
   "id": "08d192e1-631c-46e1-9f71-a07692d417d2",
   "metadata": {},
   "outputs": [
    {
     "data": {
      "text/plain": [
       "2"
      ]
     },
     "execution_count": 37,
     "metadata": {},
     "output_type": "execute_result"
    }
   ],
   "source": [
    "b//a #floor division"
   ]
  },
  {
   "cell_type": "code",
   "execution_count": 38,
   "id": "bd197e54-3193-4ca0-acc1-23509a51fb8a",
   "metadata": {},
   "outputs": [
    {
     "data": {
      "text/plain": [
       "0"
      ]
     },
     "execution_count": 38,
     "metadata": {},
     "output_type": "execute_result"
    }
   ],
   "source": [
    "b%a  #modulus -gives remainder"
   ]
  },
  {
   "cell_type": "code",
   "execution_count": 39,
   "id": "e183c717-02b4-451a-a89f-82a7a025a818",
   "metadata": {},
   "outputs": [
    {
     "data": {
      "text/plain": [
       "True"
      ]
     },
     "execution_count": 39,
     "metadata": {},
     "output_type": "execute_result"
    }
   ],
   "source": [
    "a=10\n",
    "b=10\n",
    "a==b #equality operator -result in boolean"
   ]
  },
  {
   "cell_type": "code",
   "execution_count": 40,
   "id": "f4f86056-392a-485a-8af2-84356e7f28ae",
   "metadata": {},
   "outputs": [
    {
     "data": {
      "text/plain": [
       "True"
      ]
     },
     "execution_count": 40,
     "metadata": {},
     "output_type": "execute_result"
    }
   ],
   "source": [
    "a is b #is identity operator"
   ]
  },
  {
   "cell_type": "code",
   "execution_count": 41,
   "id": "eb14c5a9-8541-4375-892f-45b00952cf2e",
   "metadata": {},
   "outputs": [
    {
     "data": {
      "text/plain": [
       "False"
      ]
     },
     "execution_count": 41,
     "metadata": {},
     "output_type": "execute_result"
    }
   ],
   "source": [
    "a!=b #not equal operator"
   ]
  },
  {
   "cell_type": "code",
   "execution_count": 42,
   "id": "910d8764-51ed-474d-a26a-c2f3a7aee349",
   "metadata": {},
   "outputs": [
    {
     "data": {
      "text/plain": [
       "True"
      ]
     },
     "execution_count": 42,
     "metadata": {},
     "output_type": "execute_result"
    }
   ],
   "source": [
    "#difference between equal and is identity operator - equal compares equality of object\n",
    "#is operator check whether different variables pointing to same object memoy\n",
    "a=20\n",
    "b=20\n",
    "a==b"
   ]
  },
  {
   "cell_type": "code",
   "execution_count": 43,
   "id": "fd629115-d740-48d8-8a33-b595d8ea76bc",
   "metadata": {},
   "outputs": [
    {
     "data": {
      "text/plain": [
       "True"
      ]
     },
     "execution_count": 43,
     "metadata": {},
     "output_type": "execute_result"
    }
   ],
   "source": [
    "a is b\n"
   ]
  },
  {
   "cell_type": "code",
   "execution_count": 44,
   "id": "b39ff0c7-8ee0-40f2-9f54-67ac70f09e07",
   "metadata": {},
   "outputs": [
    {
     "data": {
      "text/plain": [
       "139773249012560"
      ]
     },
     "execution_count": 44,
     "metadata": {},
     "output_type": "execute_result"
    }
   ],
   "source": [
    "id(a)"
   ]
  },
  {
   "cell_type": "code",
   "execution_count": 45,
   "id": "8c1a784f-a676-4f7c-b529-dcb7d65541a5",
   "metadata": {},
   "outputs": [
    {
     "data": {
      "text/plain": [
       "139773249012560"
      ]
     },
     "execution_count": 45,
     "metadata": {},
     "output_type": "execute_result"
    }
   ],
   "source": [
    "id(b)\n",
    " #pointing to same memory object"
   ]
  },
  {
   "cell_type": "code",
   "execution_count": 46,
   "id": "2349701b-67db-47ce-b022-f3923354a444",
   "metadata": {},
   "outputs": [
    {
     "data": {
      "text/plain": [
       "False"
      ]
     },
     "execution_count": 46,
     "metadata": {},
     "output_type": "execute_result"
    }
   ],
   "source": [
    "a=20\n",
    "b=10\n",
    "a is b"
   ]
  },
  {
   "cell_type": "code",
   "execution_count": 47,
   "id": "3ba8ba48-ea99-4a66-b937-06ca9cc999f7",
   "metadata": {},
   "outputs": [
    {
     "data": {
      "text/plain": [
       "139773249012560"
      ]
     },
     "execution_count": 47,
     "metadata": {},
     "output_type": "execute_result"
    }
   ],
   "source": [
    "id(a)"
   ]
  },
  {
   "cell_type": "code",
   "execution_count": 48,
   "id": "5fbf0435-3212-479c-99bb-3b3cd5ea90c4",
   "metadata": {},
   "outputs": [
    {
     "data": {
      "text/plain": [
       "139773249012240"
      ]
     },
     "execution_count": 48,
     "metadata": {},
     "output_type": "execute_result"
    }
   ],
   "source": [
    "id(b) #pointing to difference memory object loaction"
   ]
  },
  {
   "cell_type": "code",
   "execution_count": 49,
   "id": "151ae095-6079-4d66-b52b-30b27f595423",
   "metadata": {},
   "outputs": [
    {
     "data": {
      "text/plain": [
       "True"
      ]
     },
     "execution_count": 49,
     "metadata": {},
     "output_type": "execute_result"
    }
   ],
   "source": [
    "a!=b"
   ]
  },
  {
   "cell_type": "code",
   "execution_count": 50,
   "id": "e5e40f8b-f987-4624-9f0b-13bfbda578d5",
   "metadata": {},
   "outputs": [],
   "source": [
    "a=[1,2,3]"
   ]
  },
  {
   "cell_type": "code",
   "execution_count": 51,
   "id": "9298ff59-1cda-4565-8703-40075eaaa4d8",
   "metadata": {},
   "outputs": [],
   "source": [
    "b=[1,2,3]"
   ]
  },
  {
   "cell_type": "code",
   "execution_count": 52,
   "id": "40d4c9eb-1087-4650-b2bb-232bd79227c7",
   "metadata": {},
   "outputs": [
    {
     "data": {
      "text/plain": [
       "True"
      ]
     },
     "execution_count": 52,
     "metadata": {},
     "output_type": "execute_result"
    }
   ],
   "source": [
    "a==b"
   ]
  },
  {
   "cell_type": "code",
   "execution_count": 53,
   "id": "d67b7240-6a38-4158-b4f2-513c81533c52",
   "metadata": {},
   "outputs": [
    {
     "data": {
      "text/plain": [
       "False"
      ]
     },
     "execution_count": 53,
     "metadata": {},
     "output_type": "execute_result"
    }
   ],
   "source": [
    "a is b"
   ]
  },
  {
   "cell_type": "code",
   "execution_count": 54,
   "id": "8a592702-7245-49ac-ae00-bac97fb27eb9",
   "metadata": {},
   "outputs": [
    {
     "data": {
      "text/plain": [
       "139773139924480"
      ]
     },
     "execution_count": 54,
     "metadata": {},
     "output_type": "execute_result"
    }
   ],
   "source": [
    "id(a)"
   ]
  },
  {
   "cell_type": "code",
   "execution_count": 55,
   "id": "2db0c2d7-0a46-426f-9e73-5eea6bb6fe78",
   "metadata": {},
   "outputs": [
    {
     "data": {
      "text/plain": [
       "139773140191232"
      ]
     },
     "execution_count": 55,
     "metadata": {},
     "output_type": "execute_result"
    }
   ],
   "source": [
    "id(b) #list so differnt memory-data structure concept\n"
   ]
  },
  {
   "cell_type": "code",
   "execution_count": 56,
   "id": "543d6b1a-a85c-40a2-b4dd-7de8096c9f1f",
   "metadata": {},
   "outputs": [],
   "source": [
    "a=[1,2,3]"
   ]
  },
  {
   "cell_type": "code",
   "execution_count": 57,
   "id": "d367148d-fabc-4cd7-9789-6b62388d3d26",
   "metadata": {},
   "outputs": [],
   "source": [
    "b=a"
   ]
  },
  {
   "cell_type": "code",
   "execution_count": 58,
   "id": "2918204c-db52-463e-818a-eb01fdf0adc5",
   "metadata": {},
   "outputs": [
    {
     "data": {
      "text/plain": [
       "True"
      ]
     },
     "execution_count": 58,
     "metadata": {},
     "output_type": "execute_result"
    }
   ],
   "source": [
    "a is b"
   ]
  },
  {
   "cell_type": "code",
   "execution_count": 59,
   "id": "da31f23c-79b5-4f8b-a757-106014560be9",
   "metadata": {},
   "outputs": [
    {
     "data": {
      "text/plain": [
       "True"
      ]
     },
     "execution_count": 59,
     "metadata": {},
     "output_type": "execute_result"
    }
   ],
   "source": [
    "a==b"
   ]
  },
  {
   "cell_type": "code",
   "execution_count": 60,
   "id": "75792722-fb25-4922-ac4e-7676edb9dbd7",
   "metadata": {},
   "outputs": [
    {
     "data": {
      "text/plain": [
       "139773139921152"
      ]
     },
     "execution_count": 60,
     "metadata": {},
     "output_type": "execute_result"
    }
   ],
   "source": [
    "id(a)"
   ]
  },
  {
   "cell_type": "code",
   "execution_count": 61,
   "id": "b41deacb-bd99-47de-ab26-d492f3b68601",
   "metadata": {},
   "outputs": [
    {
     "data": {
      "text/plain": [
       "139773139921152"
      ]
     },
     "execution_count": 61,
     "metadata": {},
     "output_type": "execute_result"
    }
   ],
   "source": [
    "id(b)"
   ]
  },
  {
   "cell_type": "code",
   "execution_count": 93,
   "id": "7cdf02b6-4b6a-4215-8dba-0aec9f90cc7c",
   "metadata": {},
   "outputs": [
    {
     "name": "stdin",
     "output_type": "stream",
     "text": [
      " 10\n"
     ]
    },
    {
     "name": "stdout",
     "output_type": "stream",
     "text": [
      "5003154509899970\n"
     ]
    }
   ],
   "source": [
    "#logical operators - an\n",
    "x=int(input())\n",
    "y=3**35//x\n",
    "print(y)"
   ]
  },
  {
   "cell_type": "code",
   "execution_count": 63,
   "id": "7733f245-4064-4071-89ee-0c9c0779221e",
   "metadata": {},
   "outputs": [
    {
     "data": {
      "text/plain": [
       "4"
      ]
     },
     "execution_count": 63,
     "metadata": {},
     "output_type": "execute_result"
    }
   ],
   "source": [
    "2**2"
   ]
  },
  {
   "cell_type": "code",
   "execution_count": 64,
   "id": "2819aa33-6409-432e-804c-1d9e09b1e883",
   "metadata": {},
   "outputs": [
    {
     "name": "stdout",
     "output_type": "stream",
     "text": [
      "2.0\n"
     ]
    }
   ],
   "source": [
    "import math\n",
    "x=4\n",
    "y = math.sqrt(x)\n",
    "print(y)"
   ]
  },
  {
   "cell_type": "code",
   "execution_count": 65,
   "id": "34424a9b-a6ec-4249-8213-07d3e2c1b8e3",
   "metadata": {},
   "outputs": [
    {
     "data": {
      "text/plain": [
       "2.0"
      ]
     },
     "execution_count": 65,
     "metadata": {},
     "output_type": "execute_result"
    }
   ],
   "source": [
    "4/2"
   ]
  },
  {
   "cell_type": "code",
   "execution_count": 66,
   "id": "b44b21ed-0530-4d6d-8a14-4669fb80101a",
   "metadata": {},
   "outputs": [
    {
     "data": {
      "text/plain": [
       "2"
      ]
     },
     "execution_count": 66,
     "metadata": {},
     "output_type": "execute_result"
    }
   ],
   "source": [
    "4//2 #gives integer value -round of nearest value"
   ]
  },
  {
   "cell_type": "code",
   "execution_count": 67,
   "id": "60655ebb-158c-43ba-af7c-1e46c4d90448",
   "metadata": {},
   "outputs": [],
   "source": [
    "a=10"
   ]
  },
  {
   "cell_type": "code",
   "execution_count": 68,
   "id": "a12d2a97-9ac1-483a-8908-b350682ef2a0",
   "metadata": {},
   "outputs": [],
   "source": [
    "b=20"
   ]
  },
  {
   "cell_type": "code",
   "execution_count": 69,
   "id": "32d38242-04e5-435a-8914-f893decc4a00",
   "metadata": {},
   "outputs": [
    {
     "data": {
      "text/plain": [
       "False"
      ]
     },
     "execution_count": 69,
     "metadata": {},
     "output_type": "execute_result"
    }
   ],
   "source": [
    "a>b\n"
   ]
  },
  {
   "cell_type": "code",
   "execution_count": 70,
   "id": "71ab1d6e-243c-4bdd-b835-b4c3be80164f",
   "metadata": {},
   "outputs": [
    {
     "data": {
      "text/plain": [
       "True"
      ]
     },
     "execution_count": 70,
     "metadata": {},
     "output_type": "execute_result"
    }
   ],
   "source": [
    "a<b"
   ]
  },
  {
   "cell_type": "code",
   "execution_count": 71,
   "id": "83d108a1-6ec7-425f-8c93-37aeb1a0c40b",
   "metadata": {},
   "outputs": [],
   "source": [
    "a=10"
   ]
  },
  {
   "cell_type": "code",
   "execution_count": 72,
   "id": "2f8b4ee3-b466-4967-b679-1d784d9be024",
   "metadata": {},
   "outputs": [],
   "source": [
    "b=4"
   ]
  },
  {
   "cell_type": "markdown",
   "id": "b1c75555-ce65-4d4d-995d-0cb276eb8f4f",
   "metadata": {},
   "source": [
    "bitwise operators"
   ]
  },
  {
   "cell_type": "code",
   "execution_count": 73,
   "id": "a9ddd588-99c3-49f0-a23b-52b3d4e42a3e",
   "metadata": {},
   "outputs": [
    {
     "data": {
      "text/plain": [
       "'0b1010'"
      ]
     },
     "execution_count": 73,
     "metadata": {},
     "output_type": "execute_result"
    }
   ],
   "source": [
    "bin(a) #1010    #binary-bytes"
   ]
  },
  {
   "cell_type": "code",
   "execution_count": 74,
   "id": "6b3f6545-6568-4e71-ad03-b8cf7ff1628b",
   "metadata": {},
   "outputs": [
    {
     "data": {
      "text/plain": [
       "'0b100'"
      ]
     },
     "execution_count": 74,
     "metadata": {},
     "output_type": "execute_result"
    }
   ],
   "source": [
    "bin(b) #0100    "
   ]
  },
  {
   "cell_type": "code",
   "execution_count": 75,
   "id": "8cf3e910-4d98-4a85-9bd6-f2eb9fea0faf",
   "metadata": {},
   "outputs": [
    {
     "data": {
      "text/plain": [
       "0"
      ]
     },
     "execution_count": 75,
     "metadata": {},
     "output_type": "execute_result"
    }
   ],
   "source": [
    "a & b          # & operator- 1010          1 0  1 \n",
    "               #    0100          0 1  0\n",
    "                  #               1 1   0  \n",
    "                  #               0 0   0\n",
    "            "
   ]
  },
  {
   "cell_type": "code",
   "execution_count": 76,
   "id": "62615207-6a3a-413f-8831-adb9bcf38f24",
   "metadata": {},
   "outputs": [
    {
     "data": {
      "text/plain": [
       "14"
      ]
     },
     "execution_count": 76,
     "metadata": {},
     "output_type": "execute_result"
    }
   ],
   "source": [
    "a | b               #  0 1 - 1    1 0 -1  1 1-1  0 0-0\n",
    "#or "
   ]
  },
  {
   "cell_type": "code",
   "execution_count": 77,
   "id": "71b8516c-89e1-43b2-9978-4edf855c808e",
   "metadata": {},
   "outputs": [
    {
     "data": {
      "text/plain": [
       "14"
      ]
     },
     "execution_count": 77,
     "metadata": {},
     "output_type": "execute_result"
    }
   ],
   "source": [
    "a ^ b  #1 1-0  1 0- 1   0 1- 1  0 0 -0\n",
    "#xor"
   ]
  },
  {
   "cell_type": "code",
   "execution_count": 78,
   "id": "75e25a3a-e88e-4f92-87f3-7e6b31223831",
   "metadata": {},
   "outputs": [
    {
     "data": {
      "text/plain": [
       "-11"
      ]
     },
     "execution_count": 78,
     "metadata": {},
     "output_type": "execute_result"
    }
   ],
   "source": [
    "~a                 #1 -0  0-1\n",
    "#not              example 1011 changes to 0100"
   ]
  },
  {
   "cell_type": "code",
   "execution_count": 79,
   "id": "fccdad98-ac52-4589-9310-a44e1a0d0f7a",
   "metadata": {},
   "outputs": [],
   "source": [
    "# one's compliment - 1011 becomes 0100 \n",
    "#2's compliment - 1's +1           +1 =0101"
   ]
  },
  {
   "cell_type": "code",
   "execution_count": 80,
   "id": "dfa291a3-cc11-4ab7-93ed-4e9e33802b65",
   "metadata": {},
   "outputs": [],
   "source": [
    "a=10"
   ]
  },
  {
   "cell_type": "code",
   "execution_count": 81,
   "id": "9cdacaa3-8fc4-445c-92e1-34744eb8496f",
   "metadata": {},
   "outputs": [],
   "source": [
    "b=4"
   ]
  },
  {
   "cell_type": "code",
   "execution_count": 82,
   "id": "cad4b7f4-c561-4f67-a4db-2a8bc307fb89",
   "metadata": {},
   "outputs": [
    {
     "data": {
      "text/plain": [
       "'0b1010'"
      ]
     },
     "execution_count": 82,
     "metadata": {},
     "output_type": "execute_result"
    }
   ],
   "source": [
    "bin(a)"
   ]
  },
  {
   "cell_type": "code",
   "execution_count": 83,
   "id": "836a9198-7316-4eb3-b8ba-03ec953e3838",
   "metadata": {},
   "outputs": [
    {
     "data": {
      "text/plain": [
       "'0b100'"
      ]
     },
     "execution_count": 83,
     "metadata": {},
     "output_type": "execute_result"
    }
   ],
   "source": [
    "bin(b)"
   ]
  },
  {
   "cell_type": "code",
   "execution_count": 84,
   "id": "925b4663-a463-443f-a52c-d4e6f12d68fe",
   "metadata": {},
   "outputs": [
    {
     "data": {
      "text/plain": [
       "14"
      ]
     },
     "execution_count": 84,
     "metadata": {},
     "output_type": "execute_result"
    }
   ],
   "source": [
    "a^b"
   ]
  },
  {
   "cell_type": "code",
   "execution_count": 85,
   "id": "e1d14f5b-5f85-4633-8a46-c5cccba16592",
   "metadata": {},
   "outputs": [
    {
     "data": {
      "text/plain": [
       "'0b1110'"
      ]
     },
     "execution_count": 85,
     "metadata": {},
     "output_type": "execute_result"
    }
   ],
   "source": [
    "'''1010\n",
    "0100\n",
    "-----\n",
    "1110 -bin(14)'''\n",
    "bin(14)\n"
   ]
  },
  {
   "cell_type": "code",
   "execution_count": 86,
   "id": "32ead692-b95f-4904-ad5f-d1ac6f1430d9",
   "metadata": {},
   "outputs": [],
   "source": [
    "a=10"
   ]
  },
  {
   "cell_type": "code",
   "execution_count": 87,
   "id": "fb861392-e127-4a69-9926-2af3f6861197",
   "metadata": {},
   "outputs": [
    {
     "data": {
      "text/plain": [
       "5"
      ]
     },
     "execution_count": 87,
     "metadata": {},
     "output_type": "execute_result"
    }
   ],
   "source": [
    "a>>1 #right shift"
   ]
  },
  {
   "cell_type": "code",
   "execution_count": 88,
   "id": "fcbf6c60-f05f-4acc-bcd3-4d3127e0a15e",
   "metadata": {},
   "outputs": [
    {
     "data": {
      "text/plain": [
       "20"
      ]
     },
     "execution_count": 88,
     "metadata": {},
     "output_type": "execute_result"
    }
   ],
   "source": [
    "a<<1  #left shift"
   ]
  },
  {
   "cell_type": "code",
   "execution_count": 89,
   "id": "7227c4b2-02d4-4dec-9792-8a412fa12bf1",
   "metadata": {},
   "outputs": [
    {
     "data": {
      "text/plain": [
       "-11"
      ]
     },
     "execution_count": 89,
     "metadata": {},
     "output_type": "execute_result"
    }
   ],
   "source": [
    "~a"
   ]
  },
  {
   "cell_type": "code",
   "execution_count": 96,
   "id": "d4a002d1-575b-4a3b-8718-2f32a98ac4fb",
   "metadata": {},
   "outputs": [],
   "source": [
    "#10             1010\n",
    "#l's compliment 0101  add 1 to this  \n",
    "#               -----\n",
    " #              0110    '''"
   ]
  },
  {
   "cell_type": "code",
   "execution_count": 97,
   "id": "15a91799-ceb8-4cc5-a759-98757fa9349d",
   "metadata": {},
   "outputs": [],
   "source": [
    "a=5"
   ]
  },
  {
   "cell_type": "code",
   "execution_count": 101,
   "id": "92489f30-3888-4c95-8e75-f43a248aceba",
   "metadata": {},
   "outputs": [],
   "source": [
    "a=a+1"
   ]
  },
  {
   "cell_type": "code",
   "execution_count": 102,
   "id": "ce788c5a-1d0c-47d4-94e7-cc25fe57756b",
   "metadata": {},
   "outputs": [
    {
     "data": {
      "text/plain": [
       "7"
      ]
     },
     "execution_count": 102,
     "metadata": {},
     "output_type": "execute_result"
    }
   ],
   "source": [
    "a"
   ]
  },
  {
   "cell_type": "code",
   "execution_count": 106,
   "id": "698b465e-685a-4d75-b969-ebca8e82ea00",
   "metadata": {},
   "outputs": [],
   "source": [
    "a+=1 #a=a+1"
   ]
  },
  {
   "cell_type": "code",
   "execution_count": 107,
   "id": "0e50b71d-1275-4164-8308-791183d709bc",
   "metadata": {},
   "outputs": [
    {
     "data": {
      "text/plain": [
       "9"
      ]
     },
     "execution_count": 107,
     "metadata": {},
     "output_type": "execute_result"
    }
   ],
   "source": [
    "a"
   ]
  },
  {
   "cell_type": "code",
   "execution_count": 113,
   "id": "eb00629b-053e-4b10-aab1-edfb9d42fe1e",
   "metadata": {},
   "outputs": [],
   "source": [
    "b=10"
   ]
  },
  {
   "cell_type": "code",
   "execution_count": 114,
   "id": "13662630-7cd0-4a59-81eb-37c564d8ebba",
   "metadata": {},
   "outputs": [],
   "source": [
    "b+=3"
   ]
  },
  {
   "cell_type": "code",
   "execution_count": 115,
   "id": "5094cbde-bb7a-4145-9f75-e5bf80ef8892",
   "metadata": {},
   "outputs": [
    {
     "data": {
      "text/plain": [
       "13"
      ]
     },
     "execution_count": 115,
     "metadata": {},
     "output_type": "execute_result"
    }
   ],
   "source": [
    "b"
   ]
  },
  {
   "cell_type": "code",
   "execution_count": null,
   "id": "e85e76eb-8a6a-4fe1-bf58-89f433bd604c",
   "metadata": {},
   "outputs": [],
   "source": []
  }
 ],
 "metadata": {
  "kernelspec": {
   "display_name": "Python 3 (ipykernel)",
   "language": "python",
   "name": "python3"
  },
  "language_info": {
   "codemirror_mode": {
    "name": "ipython",
    "version": 3
   },
   "file_extension": ".py",
   "mimetype": "text/x-python",
   "name": "python",
   "nbconvert_exporter": "python",
   "pygments_lexer": "ipython3",
   "version": "3.10.8"
  }
 },
 "nbformat": 4,
 "nbformat_minor": 5
}
